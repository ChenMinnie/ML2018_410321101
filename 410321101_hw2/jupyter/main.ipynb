{
 "cells": [
  {
   "cell_type": "code",
   "execution_count": 1,
   "metadata": {
    "scrolled": false
   },
   "outputs": [],
   "source": [
    "from sklearn.datasets import fetch_mldata\n",
    "import numpy as np #import numpy package\n",
    "import matplotlib.pyplot as plt #plotting packagescdewq`C\n",
    "from sklearn.decomposition import PCA\n",
    "from sklearn.neural_network import MLPClassifier\n",
    "from sklearn.model_selection import train_test_split\n",
    "from sklearn.metrics import accuracy_score\n",
    "from sklearn import svm\n",
    "from sklearn.linear_model import LogisticRegression\n",
    "from sklearn import decomposition\n",
    "from sklearn.tree import DecisionTreeClassifier\n",
    "from sklearn.discriminant_analysis import LinearDiscriminantAnalysis\n",
    "from sklearn.metrics import classification_report\n",
    "\n",
    "\n",
    "\n",
    "mnist = fetch_mldata('MNIST original') # Downloading Dataset\n",
    "mnist.data = mnist.data / 255.0  # Normalization "
   ]
  },
  {
   "cell_type": "code",
   "execution_count": 2,
   "metadata": {},
   "outputs": [],
   "source": [
    "pca = PCA(n_components= 80,copy = False)\n",
    "X = pca.fit_transform(mnist.data)\n",
    "Y = mnist.target\n",
    "x_train, x_test, y_train, y_test = train_test_split(X,Y, test_size= 0.25, random_state=27)\n",
    "\n",
    "#Reducing Dimension"
   ]
  },
  {
   "cell_type": "code",
   "execution_count": 3,
   "metadata": {},
   "outputs": [],
   "source": [
    "#lda = LinearDiscriminantAnalysis(n_components=2)\n",
    "#lda.fit_transform(X, Y)\n",
    "#x_train, x_test, y_train, y_test = train_test_split(X,Y, test_size= 0.25, random_state=27)\n",
    "\n",
    "#Reducing Dimension"
   ]
  },
  {
   "cell_type": "code",
   "execution_count": 4,
   "metadata": {},
   "outputs": [],
   "source": [
    "#svd = decomposition.TruncatedSVD(n_components= 30, algorithm='arpack')\n",
    "#X = svd.fit_transform(mnist.data)\n",
    "#Y = mnist.target\n",
    "#x_train, x_test, y_train, y_test = train_test_split(X,Y, test_size= 0.25, random_state=27)\n",
    "\n",
    "#Reducing Dimension"
   ]
  },
  {
   "cell_type": "code",
   "execution_count": 5,
   "metadata": {},
   "outputs": [
    {
     "name": "stdout",
     "output_type": "stream",
     "text": [
      "Logistic Classifier Accuracy:0.905943\n",
      "Logistic Classifier Report\n",
      "             precision    recall  f1-score   support\n",
      "\n",
      "        0.0       0.94      0.98      0.96      1669\n",
      "        1.0       0.93      0.97      0.95      1984\n",
      "        2.0       0.91      0.88      0.89      1764\n",
      "        3.0       0.89      0.88      0.89      1790\n",
      "        4.0       0.90      0.91      0.91      1728\n",
      "        5.0       0.87      0.82      0.84      1582\n",
      "        6.0       0.93      0.95      0.94      1702\n",
      "        7.0       0.93      0.93      0.93      1795\n",
      "        8.0       0.88      0.85      0.86      1754\n",
      "        9.0       0.86      0.87      0.87      1732\n",
      "\n",
      "avg / total       0.91      0.91      0.91     17500\n",
      "\n"
     ]
    }
   ],
   "source": [
    "Log_clf = LogisticRegression()\n",
    "Log_clf.fit(x_train, y_train)\n",
    "#print('Score:%f'% Log_clf.score(x_test, y_test))\n",
    "y_pred = Log_clf.predict(x_test)\n",
    "print('Logistic Classifier Accuracy:%f'% accuracy_score(y_test, y_pred))\n",
    "print('Logistic Classifier Report\\n%s' % (classification_report(y_test,y_pred)))\n",
    "# Classifier and Training, Evaluating"
   ]
  },
  {
   "cell_type": "code",
   "execution_count": 6,
   "metadata": {},
   "outputs": [
    {
     "name": "stdout",
     "output_type": "stream",
     "text": [
      "DecisionTreeClassifier Accuracy:0.837657\n",
      "DecisionTreeClassifier Report\n",
      "             precision    recall  f1-score   support\n",
      "\n",
      "        0.0       0.91      0.90      0.91      1669\n",
      "        1.0       0.95      0.97      0.96      1984\n",
      "        2.0       0.83      0.83      0.83      1764\n",
      "        3.0       0.78      0.81      0.80      1790\n",
      "        4.0       0.81      0.79      0.80      1728\n",
      "        5.0       0.77      0.77      0.77      1582\n",
      "        6.0       0.89      0.89      0.89      1702\n",
      "        7.0       0.85      0.86      0.86      1795\n",
      "        8.0       0.79      0.76      0.77      1754\n",
      "        9.0       0.78      0.78      0.78      1732\n",
      "\n",
      "avg / total       0.84      0.84      0.84     17500\n",
      "\n"
     ]
    }
   ],
   "source": [
    "Tree_clf = DecisionTreeClassifier()\n",
    "Tree_clf.fit(x_train, y_train)\n",
    "y_pred = Tree_clf.predict(x_test)\n",
    "print('DecisionTreeClassifier Accuracy:%f'% accuracy_score(y_test, y_pred))\n",
    "print('DecisionTreeClassifier Report\\n%s' % (classification_report(y_test,y_pred)))\n",
    "# Classifier and Training, Evaluating"
   ]
  },
  {
   "cell_type": "code",
   "execution_count": 7,
   "metadata": {
    "scrolled": true
   },
   "outputs": [
    {
     "name": "stdout",
     "output_type": "stream",
     "text": [
      "SVC Accuracy:0.978743\n",
      "SVC Classifier Report\n",
      "             precision    recall  f1-score   support\n",
      "\n",
      "        0.0       0.99      0.99      0.99      1669\n",
      "        1.0       0.98      1.00      0.99      1984\n",
      "        2.0       0.98      0.98      0.98      1764\n",
      "        3.0       0.98      0.97      0.97      1790\n",
      "        4.0       0.97      0.98      0.97      1728\n",
      "        5.0       0.98      0.97      0.97      1582\n",
      "        6.0       0.99      0.99      0.99      1702\n",
      "        7.0       0.98      0.97      0.98      1795\n",
      "        8.0       0.98      0.97      0.97      1754\n",
      "        9.0       0.97      0.97      0.97      1732\n",
      "\n",
      "avg / total       0.98      0.98      0.98     17500\n",
      "\n"
     ]
    }
   ],
   "source": [
    "svm_clf = svm.SVC()\n",
    "svm_clf.fit(x_train, y_train)\n",
    "y_pred = svm_clf.predict(x_test)\n",
    "print('SVC Accuracy:%f'% accuracy_score(y_test, y_pred))\n",
    "print('SVC Classifier Report\\n%s' % (classification_report(y_test,y_pred)))\n",
    "# Classifier and Training, Evaluating"
   ]
  },
  {
   "cell_type": "code",
   "execution_count": 8,
   "metadata": {
    "scrolled": true
   },
   "outputs": [
    {
     "name": "stdout",
     "output_type": "stream",
     "text": [
      "Iteration 1, loss = 0.28154911\n",
      "Iteration 2, loss = 0.10113966\n",
      "Iteration 3, loss = 0.07386030\n",
      "Iteration 4, loss = 0.05860048\n",
      "Iteration 5, loss = 0.04799512\n",
      "Iteration 6, loss = 0.04134987\n",
      "Iteration 7, loss = 0.03573538\n",
      "Iteration 8, loss = 0.03029332\n",
      "Iteration 9, loss = 0.02396880\n",
      "Iteration 10, loss = 0.02383198\n",
      "Iteration 11, loss = 0.02020362\n",
      "Iteration 12, loss = 0.02350949\n",
      "Iteration 13, loss = 0.02025727\n",
      "Iteration 14, loss = 0.01987839\n",
      "Iteration 15, loss = 0.01812907\n",
      "Iteration 16, loss = 0.01185021\n",
      "Iteration 17, loss = 0.00870800\n",
      "Iteration 18, loss = 0.01365948\n",
      "Iteration 19, loss = 0.01092278\n",
      "Iteration 20, loss = 0.00866978\n",
      "MLP Classifier Accuracy:0.978743\n",
      "MLP Classifier Report\n",
      "             precision    recall  f1-score   support\n",
      "\n",
      "        0.0       0.99      0.99      0.99      1669\n",
      "        1.0       0.98      0.99      0.99      1984\n",
      "        2.0       0.98      0.97      0.98      1764\n",
      "        3.0       0.97      0.98      0.97      1790\n",
      "        4.0       0.98      0.98      0.98      1728\n",
      "        5.0       0.98      0.97      0.97      1582\n",
      "        6.0       0.98      0.99      0.98      1702\n",
      "        7.0       0.98      0.98      0.98      1795\n",
      "        8.0       0.97      0.98      0.97      1754\n",
      "        9.0       0.98      0.97      0.97      1732\n",
      "\n",
      "avg / total       0.98      0.98      0.98     17500\n"
     ]
    },
    {
     "name": "stderr",
     "output_type": "stream",
     "text": [
      "d:\\python\\python36\\lib\\site-packages\\sklearn\\neural_network\\multilayer_perceptron.py:564: ConvergenceWarning: Stochastic Optimizer: Maximum iterations (20) reached and the optimization hasn't converged yet.\n",
      "  % self.max_iter, ConvergenceWarning)\n"
     ]
    },
    {
     "name": "stdout",
     "output_type": "stream",
     "text": [
      "\n"
     ]
    }
   ],
   "source": [
    "mlp_clf = MLPClassifier(hidden_layer_sizes=(100,100,100), max_iter=20, alpha=0.0001,\n",
    "                     solver='sgd', verbose=10,  random_state=0,tol=0.000000001,learning_rate_init=.1)\n",
    "mlp_clf.fit(x_train, y_train)\n",
    "y_pred = mlp_clf.predict(x_test)\n",
    "print('MLP Classifier Accuracy:%f'% accuracy_score(y_test, y_pred))\n",
    "print('MLP Classifier Report\\n%s' % (classification_report(y_test,y_pred)))\n",
    "# Classifier and Training, Evaluating"
   ]
  },
  {
   "cell_type": "code",
   "execution_count": null,
   "metadata": {},
   "outputs": [],
   "source": []
  }
 ],
 "metadata": {
  "kernelspec": {
   "display_name": "Python 3",
   "language": "python",
   "name": "python3"
  },
  "language_info": {
   "codemirror_mode": {
    "name": "ipython",
    "version": 3
   },
   "file_extension": ".py",
   "mimetype": "text/x-python",
   "name": "python",
   "nbconvert_exporter": "python",
   "pygments_lexer": "ipython3",
   "version": "3.6.5"
  }
 },
 "nbformat": 4,
 "nbformat_minor": 2
}
