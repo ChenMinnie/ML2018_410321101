{
 "cells": [
  {
   "cell_type": "code",
   "execution_count": 1,
   "metadata": {
    "scrolled": false
   },
   "outputs": [],
   "source": [
    "from sklearn.datasets import fetch_mldata\n",
    "import numpy as np #import numpy package\n",
    "import matplotlib.pyplot as plt #plotting packagescdewq`C\n",
    "from sklearn.decomposition import PCA\n",
    "from sklearn.neural_network import MLPClassifier\n",
    "from sklearn.model_selection import train_test_split\n",
    "from sklearn.metrics import accuracy_score\n",
    "from sklearn import tree\n",
    "from sklearn import svm\n",
    "from sklearn.linear_model import LogisticRegression\n",
    "from sklearn import decomposition\n",
    "\n",
    "mnist = fetch_mldata('MNIST original')\n",
    "mnist.data = mnist.data / 255.0"
   ]
  },
  {
   "cell_type": "code",
   "execution_count": null,
   "metadata": {},
   "outputs": [],
   "source": []
  },
  {
   "cell_type": "code",
   "execution_count": 9,
   "metadata": {},
   "outputs": [],
   "source": [
    "pca = PCA(n_components= 30,copy = False)\n",
    "X = pca.fit_transform(mnist.data)\n",
    "Y = mnist.target\n",
    "\n",
    "x_train, x_test, y_train, y_test = train_test_split(X,Y, test_size= 0.25, random_state=27)"
   ]
  },
  {
   "cell_type": "code",
   "execution_count": 2,
   "metadata": {},
   "outputs": [
    {
     "name": "stdout",
     "output_type": "stream",
     "text": [
      "Iteration 1, loss = 0.27711476\n",
      "Iteration 2, loss = 0.11283501\n",
      "Iteration 3, loss = 0.09149059\n",
      "Iteration 4, loss = 0.07791474\n",
      "Iteration 5, loss = 0.06611488\n",
      "Iteration 6, loss = 0.05630429\n",
      "Iteration 7, loss = 0.05257630\n",
      "Iteration 8, loss = 0.04573583\n",
      "Iteration 9, loss = 0.04085462\n",
      "Iteration 10, loss = 0.03742269\n",
      "Iteration 11, loss = 0.03814690\n",
      "Iteration 12, loss = 0.03380931\n",
      "Iteration 13, loss = 0.02876051\n",
      "Iteration 14, loss = 0.02891097\n",
      "Iteration 15, loss = 0.02641218\n",
      "Iteration 16, loss = 0.02382342\n",
      "Iteration 17, loss = 0.02337236\n",
      "Iteration 18, loss = 0.02511485\n",
      "Iteration 19, loss = 0.02484446\n",
      "Iteration 20, loss = 0.02642538\n",
      "Training loss did not improve more than tol=0.000000 for two consecutive epochs. Stopping.\n"
     ]
    },
    {
     "data": {
      "text/plain": [
       "0.9752"
      ]
     },
     "execution_count": 2,
     "metadata": {},
     "output_type": "execute_result"
    }
   ],
   "source": [
    "mlp_clf = MLPClassifier(hidden_layer_sizes=(100,100,100), max_iter=20, alpha=0.0001,\n",
    "                     solver='sgd', verbose=10,  random_state=0,tol=0.000000001,learning_rate_init=.1)\n",
    "mlp_clf.fit(x_train, y_train)\n",
    "y_pred = mlp_clf.predict(x_test)\n",
    "print('Accuracy:%f'% accuracy_score(y_test, y_pred))"
   ]
  },
  {
   "cell_type": "code",
   "execution_count": 5,
   "metadata": {},
   "outputs": [
    {
     "data": {
      "text/plain": [
       "0.9836"
      ]
     },
     "execution_count": 5,
     "metadata": {},
     "output_type": "execute_result"
    }
   ],
   "source": [
    "svm_clf = svm.SVC()\n",
    "svm_clf.fit(x_train, y_train)\n",
    "y_pred = svm_clf.predict(x_test)\n",
    "print('Accuracy:%f'% accuracy_score(y_test, y_pred))\n",
    " "
   ]
  },
  {
   "cell_type": "code",
   "execution_count": 8,
   "metadata": {},
   "outputs": [
    {
     "name": "stdout",
     "output_type": "stream",
     "text": [
      "Score:0.876514\n",
      "Accuracy:0.876514\n"
     ]
    }
   ],
   "source": [
    "Log_clf = LogisticRegression()\n",
    "Log_clf.fit(x_train, y_train)\n",
    "#print('Score:%f'% Log_clf.score(x_test, y_test))\n",
    "y_pred = Log_clf.predict(x_test)\n",
    "print('Accuracy:%f'% accuracy_score(y_test, y_pred))\n"
   ]
  }
 ],
 "metadata": {
  "kernelspec": {
   "display_name": "Python 3",
   "language": "python",
   "name": "python3"
  },
  "language_info": {
   "codemirror_mode": {
    "name": "ipython",
    "version": 3
   },
   "file_extension": ".py",
   "mimetype": "text/x-python",
   "name": "python",
   "nbconvert_exporter": "python",
   "pygments_lexer": "ipython3",
   "version": "3.6.5"
  }
 },
 "nbformat": 4,
 "nbformat_minor": 2
}
