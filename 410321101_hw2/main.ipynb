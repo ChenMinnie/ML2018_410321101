{
 "cells": [
  {
   "cell_type": "code",
   "execution_count": 1,
   "metadata": {
    "scrolled": false
   },
   "outputs": [],
   "source": [
    "from sklearn.datasets import fetch_mldata\n",
    "import numpy as np #import numpy package\n",
    "import matplotlib.pyplot as plt #plotting packagescdewq`C\n",
    "from sklearn.decomposition import PCA\n",
    "from sklearn.neural_network import MLPClassifier\n",
    "from sklearn.model_selection import train_test_split\n",
    "from sklearn.metrics import accuracy_score\n",
    "from sklearn import svm\n",
    "from sklearn.linear_model import LogisticRegression\n",
    "from sklearn import decomposition\n",
    "from sklearn.tree import DecisionTreeClassifier\n",
    "from sklearn.discriminant_analysis import LinearDiscriminantAnalysis\n",
    "\n",
    "mnist = fetch_mldata('MNIST original')\n",
    "mnist.data = mnist.data / 255.0"
   ]
  },
  {
   "cell_type": "code",
   "execution_count": 2,
   "metadata": {},
   "outputs": [],
   "source": [
    "\n",
    "#svd = decomposition.TruncatedSVD(n_components= 30, algorithm='arpack')\n",
    "#X = svd.fit_transform(mnist.data)\n",
    "#Y = mnist.target\n",
    "\n",
    "#x_train, x_test, y_train, y_test = train_test_split(X,Y, test_size= 0.25, random_state=27)"
   ]
  },
  {
   "cell_type": "code",
   "execution_count": 3,
   "metadata": {},
   "outputs": [],
   "source": [
    "pca = PCA(n_components= 30,copy = False)\n",
    "X = pca.fit_transform(mnist.data)\n",
    "Y = mnist.target\n",
    "x_train, x_test, y_train, y_test = train_test_split(X,Y, test_size= 0.25, random_state=27)"
   ]
  },
  {
   "cell_type": "code",
   "execution_count": 4,
   "metadata": {},
   "outputs": [],
   "source": [
    "lda = LinearDiscriminantAnalysis(n_components=2)\n",
    "lda.fit_transform(X, Y)\n",
    "x_train, x_test, y_train, y_test = train_test_split(X,Y, test_size= 0.25, random_state=27)"
   ]
  },
  {
   "cell_type": "code",
   "execution_count": 5,
   "metadata": {},
   "outputs": [
    {
     "name": "stdout",
     "output_type": "stream",
     "text": [
      "Logistic Classifier Accuracy:0.876629\n"
     ]
    }
   ],
   "source": [
    "Log_clf = LogisticRegression()\n",
    "Log_clf.fit(x_train, y_train)\n",
    "#print('Score:%f'% Log_clf.score(x_test, y_test))\n",
    "y_pred = Log_clf.predict(x_test)\n",
    "print('Logistic Classifier Accuracy:%f'% accuracy_score(y_test, y_pred))\n"
   ]
  },
  {
   "cell_type": "code",
   "execution_count": 6,
   "metadata": {},
   "outputs": [
    {
     "name": "stdout",
     "output_type": "stream",
     "text": [
      "DecisionTreeClassifier Accuracy:0.847829\n"
     ]
    }
   ],
   "source": [
    "Tree_clf = DecisionTreeClassifier()\n",
    "Tree_clf.fit(x_train, y_train)\n",
    "y_pred = Tree_clf.predict(x_test)\n",
    "print('DecisionTreeClassifier Accuracy:%f'% accuracy_score(y_test, y_pred))"
   ]
  },
  {
   "cell_type": "code",
   "execution_count": 7,
   "metadata": {},
   "outputs": [
    {
     "name": "stdout",
     "output_type": "stream",
     "text": [
      "SVC Accuracy:0.983543\n"
     ]
    }
   ],
   "source": [
    "svm_clf = svm.SVC()\n",
    "svm_clf.fit(x_train, y_train)\n",
    "y_pred = svm_clf.predict(x_test)\n",
    "print('SVC Accuracy:%f'% accuracy_score(y_test, y_pred))"
   ]
  },
  {
   "cell_type": "code",
   "execution_count": 8,
   "metadata": {
    "scrolled": true
   },
   "outputs": [
    {
     "name": "stdout",
     "output_type": "stream",
     "text": [
      "Iteration 1, loss = 0.27742445\n",
      "Iteration 2, loss = 0.11308785\n",
      "Iteration 3, loss = 0.09060684\n",
      "Iteration 4, loss = 0.07709802\n",
      "Iteration 5, loss = 0.06567650\n",
      "Iteration 6, loss = 0.05548792\n",
      "Iteration 7, loss = 0.05183739\n",
      "Iteration 8, loss = 0.04579314\n",
      "Iteration 9, loss = 0.03998845\n",
      "Iteration 10, loss = 0.03874359\n",
      "Iteration 11, loss = 0.03561808\n",
      "Iteration 12, loss = 0.03074801\n",
      "Iteration 13, loss = 0.02885978\n",
      "Iteration 14, loss = 0.02693140\n",
      "Iteration 15, loss = 0.02229448\n",
      "Iteration 16, loss = 0.02792499\n",
      "Iteration 17, loss = 0.02438394\n",
      "Iteration 18, loss = 0.01993533\n",
      "Iteration 19, loss = 0.02124908\n",
      "Iteration 20, loss = 0.02193484\n"
     ]
    },
    {
     "name": "stderr",
     "output_type": "stream",
     "text": [
      "d:\\python\\python36\\lib\\site-packages\\sklearn\\neural_network\\multilayer_perceptron.py:564: ConvergenceWarning: Stochastic Optimizer: Maximum iterations (20) reached and the optimization hasn't converged yet.\n",
      "  % self.max_iter, ConvergenceWarning)\n"
     ]
    },
    {
     "name": "stdout",
     "output_type": "stream",
     "text": [
      "MLP Classifier Accuracy:0.977771\n"
     ]
    }
   ],
   "source": [
    "mlp_clf = MLPClassifier(hidden_layer_sizes=(100,100,100), max_iter=20, alpha=0.0001,\n",
    "                     solver='sgd', verbose=10,  random_state=0,tol=0.000000001,learning_rate_init=.1)\n",
    "mlp_clf.fit(x_train, y_train)\n",
    "y_pred = mlp_clf.predict(x_test)\n",
    "print('MLP Classifier Accuracy:%f'% accuracy_score(y_test, y_pred))"
   ]
  },
  {
   "cell_type": "code",
   "execution_count": null,
   "metadata": {},
   "outputs": [],
   "source": []
  }
 ],
 "metadata": {
  "kernelspec": {
   "display_name": "Python 3",
   "language": "python",
   "name": "python3"
  },
  "language_info": {
   "codemirror_mode": {
    "name": "ipython",
    "version": 3
   },
   "file_extension": ".py",
   "mimetype": "text/x-python",
   "name": "python",
   "nbconvert_exporter": "python",
   "pygments_lexer": "ipython3",
   "version": "3.6.5"
  }
 },
 "nbformat": 4,
 "nbformat_minor": 2
}
