{
 "cells": [
  {
   "cell_type": "code",
   "execution_count": null,
   "metadata": {},
   "outputs": [],
   "source": []
  },
  {
   "cell_type": "code",
   "execution_count": 62,
   "metadata": {},
   "outputs": [
    {
     "name": "stdout",
     "output_type": "stream",
     "text": [
      "400\n"
     ]
    },
    {
     "ename": "TypeError",
     "evalue": "list indices must be integers or slices, not tuple",
     "output_type": "error",
     "traceback": [
      "\u001b[1;31m---------------------------------------------------------------------------\u001b[0m",
      "\u001b[1;31mTypeError\u001b[0m                                 Traceback (most recent call last)",
      "\u001b[1;32m<ipython-input-62-9c404ff586ed>\u001b[0m in \u001b[0;36m<module>\u001b[1;34m()\u001b[0m\n\u001b[0;32m     25\u001b[0m \u001b[0mk\u001b[0m \u001b[1;33m=\u001b[0m \u001b[1;36m1\u001b[0m\u001b[1;33m;\u001b[0m\u001b[1;33m\u001b[0m\u001b[0m\n\u001b[0;32m     26\u001b[0m         \u001b[1;31m# print(1)\u001b[0m\u001b[1;33m\u001b[0m\u001b[1;33m\u001b[0m\u001b[0m\n\u001b[1;32m---> 27\u001b[1;33m \u001b[0mx\u001b[0m\u001b[1;33m[\u001b[0m\u001b[0mi\u001b[0m\u001b[1;33m,\u001b[0m\u001b[0mj\u001b[0m\u001b[1;33m]\u001b[0m \u001b[1;33m=\u001b[0m \u001b[1;33m[\u001b[0m\u001b[0mk\u001b[0m\u001b[1;33m,\u001b[0m\u001b[0mk\u001b[0m\u001b[1;33m,\u001b[0m\u001b[0mk\u001b[0m\u001b[1;33m]\u001b[0m\u001b[1;33m\u001b[0m\u001b[0m\n\u001b[0m\u001b[0;32m     28\u001b[0m         \u001b[1;31m# a[i,j]= w *x[i,j];\u001b[0m\u001b[1;33m\u001b[0m\u001b[1;33m\u001b[0m\u001b[0m\n\u001b[0;32m     29\u001b[0m \u001b[1;33m\u001b[0m\u001b[0m\n",
      "\u001b[1;31mTypeError\u001b[0m: list indices must be integers or slices, not tuple"
     ]
    }
   ],
   "source": [
    "import numpy as np\n",
    "import cv2\n",
    "img_k1 = cv2.imread('key1.png')\n",
    "gray_k1 = cv2.cvtColor(img_k1, cv2.COLOR_BGR2GRAY)\n",
    "\n",
    "img_k2 = cv2.imread('key2.png')\n",
    "gray_k2 = cv2.cvtColor(img_k2, cv2.COLOR_BGR2GRAY)\n",
    "\n",
    "img_E = cv2.imread('E.png')\n",
    "gray_E = cv2.cvtColor(img_E, cv2.COLOR_BGR2GRAY)\n",
    "\n",
    "img_I = cv2.imread('I.png')\n",
    "gray_I = cv2.cvtColor(img_I, cv2.COLOR_BGR2GRAY)\n",
    "\n",
    "\n",
    "w = [1,1,1]\n",
    "a = [0,0,0]\n",
    "x  =[0,0,0]\n",
    "size = img_k1.shape;\n",
    "W = size[1]\n",
    "H = size[0]\n",
    "print(W)\n",
    "#for i in range(W):\n",
    "        #for j in range(H):\n",
    "k = 1;     \n",
    "        # print(1)\n",
    "x[i,j] = [k,k,k]\n",
    "        # a[i,j]= w *x[i,j]; \n",
    " \n",
    " #cv2.imshow('My Image', img_k1)\n",
    "\n",
    "\n",
    "\n",
    "\n",
    "#cv2.waitKey(0)\n",
    "#cv2.destroyAllWindows()"
   ]
  },
  {
   "cell_type": "code",
   "execution_count": null,
   "metadata": {},
   "outputs": [],
   "source": []
  }
 ],
 "metadata": {
  "kernelspec": {
   "display_name": "Python 3",
   "language": "python",
   "name": "python3"
  },
  "language_info": {
   "codemirror_mode": {
    "name": "ipython",
    "version": 3
   },
   "file_extension": ".py",
   "mimetype": "text/x-python",
   "name": "python",
   "nbconvert_exporter": "python",
   "pygments_lexer": "ipython3",
   "version": "3.6.5"
  }
 },
 "nbformat": 4,
 "nbformat_minor": 2
}
