{
 "cells": [
  {
   "cell_type": "code",
   "execution_count": 20,
   "metadata": {},
   "outputs": [],
   "source": [
    "import numpy as np\n",
    "import cv2\n",
    "img_k1 = cv2.imread('key1.png')\n",
    "gray_k1 = cv2.cvtColor(img_k1, cv2.COLOR_BGR2GRAY)\n",
    "gray_k1 = np.array(gray_k1)\n",
    "img_k2 = cv2.imread('key2.png')\n",
    "gray_k2 = cv2.cvtColor(img_k2, cv2.COLOR_BGR2GRAY)\n",
    "gray_k2 = np.array(gray_k2)\n",
    "img_E = cv2.imread('E.png')\n",
    "gray_E = cv2.cvtColor(img_E, cv2.COLOR_BGR2GRAY)\n",
    "gray_E = np.array(gray_E)\n",
    "img_I = cv2.imread('I.png')\n",
    "gray_I = cv2.cvtColor(img_I, cv2.COLOR_BGR2GRAY)\n",
    "gray_I = np.array(gray_I)\n",
    "img_Eprime = cv2.imread('Eprime.png')\n",
    "gray_Eprime = cv2.cvtColor(img_Eprime, cv2.COLOR_BGR2GRAY)\n",
    "gray_Eprime = np.array(gray_Eprime)\n",
    "\n",
    "gray_I2= np.zeros(gray_Eprime.shape,np.uint8) \n",
    "w = [0,0,0]\n",
    "w = np.array(w)\n",
    "x = [0,0,0]\n",
    "x = np.array(x)\n",
    "e = [0,0,0]\n",
    "e = np.array(e)\n",
    "size = gray_k1.shape;\n",
    "W = size[1]\n",
    "H = size[0]\n",
    "\n",
    "r = 0.00001 \n",
    "epoch = 1 \n",
    "while epoch < 2:\n",
    "    \n",
    "\n",
    "    for i in range(1,W):\n",
    "            for j in range(1,H):\n",
    "                k1 = gray_k1[j,i]\n",
    "                k2 = gray_k2[j,i]\n",
    "                I = gray_I[j,i]\n",
    "                x[0] = k1\n",
    "                x[1] = k2\n",
    "                x[2] = I  #x[k1,k2,I]\n",
    "                a = np.dot(w,x)\n",
    "                e = gray_E[j,i] - a  \n",
    "                w = w + r * e * x\n",
    " \n",
    "    epoch = epoch + 1          \n",
    "\n",
    "for i in range(1,W):\n",
    "        for j in range(1,H):\n",
    "            color = (gray_Eprime[j,i] - w[0]*gray_k1[j,i] - w[1]*gray_k2[j,i])/w[2] \n",
    "            if color > 255:\n",
    "                color = 255\n",
    "            if color < 0:\n",
    "                color = 0\n",
    "            gray_I2[j,i] = color \n",
    "    \n",
    "\n",
    "\n",
    "cv2.imshow('My Image', gray_I2)\n",
    "cv2.imwrite('Decryption.jpg', gray_I2)\n",
    "cv2.waitKey(0)\n",
    "cv2.destroyAllWindows()\n"
   ]
  },
  {
   "cell_type": "code",
   "execution_count": 19,
   "metadata": {},
   "outputs": [
    {
     "name": "stdout",
     "output_type": "stream",
     "text": [
      "[0.24997882 0.66077444 0.08950885]\n"
     ]
    }
   ],
   "source": [
    "print(w)"
   ]
  }
 ],
 "metadata": {
  "kernelspec": {
   "display_name": "Python 3",
   "language": "python",
   "name": "python3"
  },
  "language_info": {
   "codemirror_mode": {
    "name": "ipython",
    "version": 3
   },
   "file_extension": ".py",
   "mimetype": "text/x-python",
   "name": "python",
   "nbconvert_exporter": "python",
   "pygments_lexer": "ipython3",
   "version": "3.6.5"
  }
 },
 "nbformat": 4,
 "nbformat_minor": 2
}
